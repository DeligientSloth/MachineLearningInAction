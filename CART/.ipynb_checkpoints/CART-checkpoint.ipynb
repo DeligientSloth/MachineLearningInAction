{
 "cells": [
  {
   "cell_type": "code",
   "execution_count": 29,
   "metadata": {},
   "outputs": [],
   "source": [
    "from numpy import *\n",
    "def loadDataSet(filename):\n",
    "    dataMat=[]\n",
    "    fr=open(filename)\n",
    "    for line in fr.readlines():\n",
    "        curline=line.strip().split('\\t')\n",
    "        floatLine=list(map(float,curline))#把每行映射成为浮点数\n",
    "        dataMat.append(floatLine)\n",
    "    return dataMat"
   ]
  },
  {
   "cell_type": "code",
   "execution_count": 21,
   "metadata": {},
   "outputs": [],
   "source": [
    "def binSplitDataSet(dataSet,feature,value):\n",
    "    #根据feature对数据集进行划分，对于数据每一行，根据feature取值进行划分（取列方向的满足条件值作为行下标）\n",
    "    index_gt=where(dataSet[:,feature]>value)[0]#取axis=0，列方向的值\n",
    "    index_lt=where(dataSet[:,feature]<=value)[0]\n",
    "    #map0=dataSet[ nonzero(dataSet[:,feature]>value)[0],: ]\n",
    "    #map1=dataSet[ nonzero(dataSet[:,feature]<=value)[0],:]\n",
    "    map0=dataSet[index_gt,:]\n",
    "    map1=dataSet[index_lt,:]\n",
    "    return map0,map1"
   ]
  },
  {
   "cell_type": "code",
   "execution_count": 27,
   "metadata": {},
   "outputs": [],
   "source": [
    "def createTree(dataSet,leafType=regLeaf,errType=regErr,ops=(1,4)):\n",
    "    feat,val=chooseBestSplit(dataSet,leafType,errType,ops)\n",
    "    #满足条件，递归返回\n",
    "    if feat==None:return val\n",
    "    retTree={}\n",
    "    retTree['spInd']=feat\n",
    "    retTree['spval']=val\n",
    "    lSet,rSet=binSplitDataSet(dataSet,feat,val)\n",
    "    retTree['left']=createTree(lSet,leafType,errType,ops)\n",
    "    retTree['right']=createTree(rSet,leafType,errType,ops)\n",
    "    return retTree"
   ]
  },
  {
   "cell_type": "code",
   "execution_count": 23,
   "metadata": {},
   "outputs": [
    {
     "data": {
      "text/plain": [
       "matrix([[ 0.,  1.,  0.,  0.]])"
      ]
     },
     "execution_count": 23,
     "metadata": {},
     "output_type": "execute_result"
    }
   ],
   "source": [
    "testMat=mat(eye(4))\n",
    "mat0,mat1=binSplitDataSet(testMat,1,0.5)\n",
    "mat0"
   ]
  },
  {
   "cell_type": "code",
   "execution_count": 24,
   "metadata": {},
   "outputs": [],
   "source": [
    "def regLeaf(dataSet):\n",
    "    return mean(dataSet[:,-1])\n",
    "def regErr(dataSet):\n",
    "    return var(dataSet[:,-1])*shape(dataSet)[0]"
   ]
  },
  {
   "cell_type": "code",
   "execution_count": 44,
   "metadata": {},
   "outputs": [],
   "source": [
    "def chooseBestSplit(dataSet,leafType=regLeaf,errType=regErr,ops=(1,4)):\n",
    "    tolS=ops[0];tolN=ops[1]\n",
    "    if len(set(dataSet[:,-1].T.tolist()[0]))==1:\n",
    "        return None,leafType(dataSet)\n",
    "    m,n=shape(dataSet)\n",
    "    S=errType(dataSet)\n",
    "    bestS=inf;bestIndex=0;bestValue=0\n",
    "    for featIndex in range(0,n-1):\n",
    "        #print(dataSet[:,featIndex])\n",
    "        uniValList=dataSet[:,featIndex].flatten().tolist()[0]\n",
    "        uniValSet=set(uniValList)\n",
    "        for splitVal in uniValSet:\n",
    "            mat0,mat1=binSplitDataSet(dataSet,featIndex,splitVal)\n",
    "            if shape(mat0)[0]<tolN or shape(mat1)[0]<tolN:\n",
    "                continue\n",
    "            newS=errType(mat0)+errType(mat1)\n",
    "            if newS<bestS:\n",
    "                bestIndex=featIndex\n",
    "                bestValue=splitVal\n",
    "                bestS=newS\n",
    "    if S-bestS<tolS:\n",
    "        return None,leafType(dataSet)\n",
    "    mat0,mat1=binSplitDataSet(dataSet,bestIndex,bestValue)\n",
    "    \n",
    "    if shape(mat0)[0]<tolN or shape(mat1)[0]<tolN:\n",
    "        return None,leafType(dataSet)\n",
    "    return bestIndex,bestValue"
   ]
  },
  {
   "cell_type": "code",
   "execution_count": 46,
   "metadata": {},
   "outputs": [
    {
     "data": {
      "text/plain": [
       "{'left': {'left': {'left': 3.9871631999999999,\n",
       "   'right': 2.9836209534883724,\n",
       "   'spInd': 1,\n",
       "   'spval': 0.797583},\n",
       "  'right': 1.980035071428571,\n",
       "  'spInd': 1,\n",
       "  'spval': 0.582002},\n",
       " 'right': {'left': 1.0289583666666666,\n",
       "  'right': -0.023838155555555553,\n",
       "  'spInd': 1,\n",
       "  'spval': 0.197834},\n",
       " 'spInd': 1,\n",
       " 'spval': 0.39435}"
      ]
     },
     "execution_count": 46,
     "metadata": {},
     "output_type": "execute_result"
    }
   ],
   "source": [
    "myDat=loadDataSet('ex0.txt')\n",
    "myDat=mat(myDat)\n",
    "createTree(myDat)"
   ]
  },
  {
   "cell_type": "code",
   "execution_count": null,
   "metadata": {},
   "outputs": [],
   "source": []
  }
 ],
 "metadata": {
  "kernelspec": {
   "display_name": "Python 3",
   "language": "python",
   "name": "python3"
  },
  "language_info": {
   "codemirror_mode": {
    "name": "ipython",
    "version": 3
   },
   "file_extension": ".py",
   "mimetype": "text/x-python",
   "name": "python",
   "nbconvert_exporter": "python",
   "pygments_lexer": "ipython3",
   "version": "3.6.1"
  }
 },
 "nbformat": 4,
 "nbformat_minor": 2
}
